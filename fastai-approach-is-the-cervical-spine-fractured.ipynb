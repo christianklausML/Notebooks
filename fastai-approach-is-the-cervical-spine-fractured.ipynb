{
 "cells": [
  {
   "cell_type": "markdown",
   "id": "0f83bfbf",
   "metadata": {
    "papermill": {
     "duration": 0.008083,
     "end_time": "2022-08-08T14:11:39.364815",
     "exception": false,
     "start_time": "2022-08-08T14:11:39.356732",
     "status": "completed"
    },
    "tags": []
   },
   "source": [
    "# Is the Cervical Spine fractured?"
   ]
  },
  {
   "cell_type": "markdown",
   "id": "104025e9",
   "metadata": {
    "papermill": {
     "duration": 0.004517,
     "end_time": "2022-08-08T14:11:39.374355",
     "exception": false,
     "start_time": "2022-08-08T14:11:39.369838",
     "status": "completed"
    },
    "tags": []
   },
   "source": [
    "In this notebook I started with the notebook 'Is it a bird?' by the first lesson of the fastai course.\n",
    "\n",
    "I wanted to use it to make a first guess for the new kaggle competition [RSNA 2022 Cervical Spine Fracture Detection\n",
    "](https://www.kaggle.com/competitions/rsna-2022-cervical-spine-fracture-detection/code).\n",
    "\n",
    "The approach is a bit different because I am not searching for pictures on the web but using the dataset provided in the kaggle competition."
   ]
  },
  {
   "cell_type": "code",
   "execution_count": 1,
   "id": "872048ce",
   "metadata": {
    "_cell_guid": "b1076dfc-b9ad-4769-8c92-a6c4dae69d19",
    "_uuid": "8f2839f25d086af736a60e9eeb907d3b93b6e0e5",
    "execution": {
     "iopub.execute_input": "2022-08-08T14:11:39.386029Z",
     "iopub.status.busy": "2022-08-08T14:11:39.384572Z",
     "iopub.status.idle": "2022-08-08T14:11:55.728986Z",
     "shell.execute_reply": "2022-08-08T14:11:55.727124Z"
    },
    "papermill": {
     "duration": 16.354418,
     "end_time": "2022-08-08T14:11:55.732734",
     "exception": false,
     "start_time": "2022-08-08T14:11:39.378316",
     "status": "completed"
    },
    "tags": []
   },
   "outputs": [],
   "source": [
    "!pip install -Uqq fastai"
   ]
  },
  {
   "cell_type": "code",
   "execution_count": 2,
   "id": "434be5b2",
   "metadata": {
    "execution": {
     "iopub.execute_input": "2022-08-08T14:11:55.743743Z",
     "iopub.status.busy": "2022-08-08T14:11:55.743386Z",
     "iopub.status.idle": "2022-08-08T14:11:59.611266Z",
     "shell.execute_reply": "2022-08-08T14:11:59.609332Z"
    },
    "papermill": {
     "duration": 3.877929,
     "end_time": "2022-08-08T14:11:59.615377",
     "exception": false,
     "start_time": "2022-08-08T14:11:55.737448",
     "status": "completed"
    },
    "tags": []
   },
   "outputs": [],
   "source": [
    "from fastcore.all import *\n",
    "from fastai.vision.all import *\n",
    "import pandas as pd\n",
    "import os"
   ]
  },
  {
   "cell_type": "code",
   "execution_count": 3,
   "id": "696c5edb",
   "metadata": {
    "execution": {
     "iopub.execute_input": "2022-08-08T14:11:59.631748Z",
     "iopub.status.busy": "2022-08-08T14:11:59.631134Z",
     "iopub.status.idle": "2022-08-08T14:11:59.640695Z",
     "shell.execute_reply": "2022-08-08T14:11:59.639443Z"
    },
    "papermill": {
     "duration": 0.021382,
     "end_time": "2022-08-08T14:11:59.644419",
     "exception": false,
     "start_time": "2022-08-08T14:11:59.623037",
     "status": "completed"
    },
    "tags": []
   },
   "outputs": [],
   "source": [
    "# defining the path to our training images\n",
    "path = Path('../input/rsna-csfd-256x256-jpg-dataset/train_images')"
   ]
  },
  {
   "cell_type": "markdown",
   "id": "42bd9b95",
   "metadata": {
    "papermill": {
     "duration": 0.006193,
     "end_time": "2022-08-08T14:11:59.657558",
     "exception": false,
     "start_time": "2022-08-08T14:11:59.651365",
     "status": "completed"
    },
    "tags": []
   },
   "source": [
    "Let's have a look at the table with the target:"
   ]
  },
  {
   "cell_type": "code",
   "execution_count": 4,
   "id": "70789b35",
   "metadata": {
    "execution": {
     "iopub.execute_input": "2022-08-08T14:11:59.672006Z",
     "iopub.status.busy": "2022-08-08T14:11:59.671602Z",
     "iopub.status.idle": "2022-08-08T14:11:59.740891Z",
     "shell.execute_reply": "2022-08-08T14:11:59.739648Z"
    },
    "papermill": {
     "duration": 0.080403,
     "end_time": "2022-08-08T14:11:59.744321",
     "exception": false,
     "start_time": "2022-08-08T14:11:59.663918",
     "status": "completed"
    },
    "tags": []
   },
   "outputs": [
    {
     "data": {
      "text/html": [
       "<div>\n",
       "<style scoped>\n",
       "    .dataframe tbody tr th:only-of-type {\n",
       "        vertical-align: middle;\n",
       "    }\n",
       "\n",
       "    .dataframe tbody tr th {\n",
       "        vertical-align: top;\n",
       "    }\n",
       "\n",
       "    .dataframe thead th {\n",
       "        text-align: right;\n",
       "    }\n",
       "</style>\n",
       "<table border=\"1\" class=\"dataframe\">\n",
       "  <thead>\n",
       "    <tr style=\"text-align: right;\">\n",
       "      <th></th>\n",
       "      <th>StudyInstanceUID</th>\n",
       "      <th>patient_overall</th>\n",
       "      <th>C1</th>\n",
       "      <th>C2</th>\n",
       "      <th>C3</th>\n",
       "      <th>C4</th>\n",
       "      <th>C5</th>\n",
       "      <th>C6</th>\n",
       "      <th>C7</th>\n",
       "    </tr>\n",
       "  </thead>\n",
       "  <tbody>\n",
       "    <tr>\n",
       "      <th>0</th>\n",
       "      <td>1.2.826.0.1.3680043.6200</td>\n",
       "      <td>1</td>\n",
       "      <td>1</td>\n",
       "      <td>1</td>\n",
       "      <td>0</td>\n",
       "      <td>0</td>\n",
       "      <td>0</td>\n",
       "      <td>0</td>\n",
       "      <td>0</td>\n",
       "    </tr>\n",
       "    <tr>\n",
       "      <th>1</th>\n",
       "      <td>1.2.826.0.1.3680043.27262</td>\n",
       "      <td>1</td>\n",
       "      <td>0</td>\n",
       "      <td>1</td>\n",
       "      <td>0</td>\n",
       "      <td>0</td>\n",
       "      <td>0</td>\n",
       "      <td>0</td>\n",
       "      <td>0</td>\n",
       "    </tr>\n",
       "    <tr>\n",
       "      <th>2</th>\n",
       "      <td>1.2.826.0.1.3680043.21561</td>\n",
       "      <td>1</td>\n",
       "      <td>0</td>\n",
       "      <td>1</td>\n",
       "      <td>0</td>\n",
       "      <td>0</td>\n",
       "      <td>0</td>\n",
       "      <td>0</td>\n",
       "      <td>0</td>\n",
       "    </tr>\n",
       "    <tr>\n",
       "      <th>3</th>\n",
       "      <td>1.2.826.0.1.3680043.12351</td>\n",
       "      <td>0</td>\n",
       "      <td>0</td>\n",
       "      <td>0</td>\n",
       "      <td>0</td>\n",
       "      <td>0</td>\n",
       "      <td>0</td>\n",
       "      <td>0</td>\n",
       "      <td>0</td>\n",
       "    </tr>\n",
       "    <tr>\n",
       "      <th>4</th>\n",
       "      <td>1.2.826.0.1.3680043.1363</td>\n",
       "      <td>1</td>\n",
       "      <td>0</td>\n",
       "      <td>0</td>\n",
       "      <td>0</td>\n",
       "      <td>0</td>\n",
       "      <td>1</td>\n",
       "      <td>0</td>\n",
       "      <td>0</td>\n",
       "    </tr>\n",
       "  </tbody>\n",
       "</table>\n",
       "</div>"
      ],
      "text/plain": [
       "            StudyInstanceUID  patient_overall  C1  C2  C3  C4  C5  C6  C7\n",
       "0   1.2.826.0.1.3680043.6200                1   1   1   0   0   0   0   0\n",
       "1  1.2.826.0.1.3680043.27262                1   0   1   0   0   0   0   0\n",
       "2  1.2.826.0.1.3680043.21561                1   0   1   0   0   0   0   0\n",
       "3  1.2.826.0.1.3680043.12351                0   0   0   0   0   0   0   0\n",
       "4   1.2.826.0.1.3680043.1363                1   0   0   0   0   1   0   0"
      ]
     },
     "execution_count": 4,
     "metadata": {},
     "output_type": "execute_result"
    }
   ],
   "source": [
    "df = pd.read_csv('../input/rsna-2022-cervical-spine-fracture-detection/train.csv')\n",
    "df.head()"
   ]
  },
  {
   "cell_type": "markdown",
   "id": "c9502dfe",
   "metadata": {
    "papermill": {
     "duration": 0.006487,
     "end_time": "2022-08-08T14:11:59.757984",
     "exception": false,
     "start_time": "2022-08-08T14:11:59.751497",
     "status": "completed"
    },
    "tags": []
   },
   "source": [
    "The target here is the column <code>patient_overall</code>, which shows a 1 if the patient is fractured."
   ]
  },
  {
   "cell_type": "markdown",
   "id": "9de3f226",
   "metadata": {
    "papermill": {
     "duration": 0.006391,
     "end_time": "2022-08-08T14:11:59.771074",
     "exception": false,
     "start_time": "2022-08-08T14:11:59.764683",
     "status": "completed"
    },
    "tags": []
   },
   "source": [
    "## Train our model"
   ]
  },
  {
   "cell_type": "markdown",
   "id": "7ebeb1f8",
   "metadata": {
    "papermill": {
     "duration": 0.006533,
     "end_time": "2022-08-08T14:11:59.784930",
     "exception": false,
     "start_time": "2022-08-08T14:11:59.778397",
     "status": "completed"
    },
    "tags": []
   },
   "source": [
    "To train a model, we'll need `DataLoaders`, which is an object that contains a *training set* (the images used to create a model) and a *validation set* (the images used to check the accuracy of a model -- not used during training). In `fastai` we can create that easily using a `DataBlock`, and view sample images from it:"
   ]
  },
  {
   "cell_type": "code",
   "execution_count": 5,
   "id": "e26b94d8",
   "metadata": {
    "execution": {
     "iopub.execute_input": "2022-08-08T14:11:59.800352Z",
     "iopub.status.busy": "2022-08-08T14:11:59.799901Z",
     "iopub.status.idle": "2022-08-08T14:11:59.806525Z",
     "shell.execute_reply": "2022-08-08T14:11:59.805309Z"
    },
    "papermill": {
     "duration": 0.020015,
     "end_time": "2022-08-08T14:11:59.811889",
     "exception": false,
     "start_time": "2022-08-08T14:11:59.791874",
     "status": "completed"
    },
    "tags": []
   },
   "outputs": [],
   "source": [
    "#taking first image in every folder\n",
    "def get_x(r): return path/r['StudyInstanceUID']/os.listdir(path/r['StudyInstanceUID'])[0]\n",
    "def get_y(r): return r['patient_overall']"
   ]
  },
  {
   "cell_type": "code",
   "execution_count": 6,
   "id": "eedde711",
   "metadata": {
    "execution": {
     "iopub.execute_input": "2022-08-08T14:11:59.827553Z",
     "iopub.status.busy": "2022-08-08T14:11:59.827132Z",
     "iopub.status.idle": "2022-08-08T14:12:04.979604Z",
     "shell.execute_reply": "2022-08-08T14:12:04.978176Z"
    },
    "papermill": {
     "duration": 5.164169,
     "end_time": "2022-08-08T14:12:04.983088",
     "exception": false,
     "start_time": "2022-08-08T14:11:59.818919",
     "status": "completed"
    },
    "tags": []
   },
   "outputs": [],
   "source": [
    "dblock = DataBlock(blocks=(ImageBlock, CategoryBlock),\n",
    "                   splitter=RandomSplitter(valid_pct=0.2, seed=42),\n",
    "                   get_x=get_x, \n",
    "                   get_y=get_y,\n",
    "                   item_tfms = RandomResizedCrop(128, min_scale=0.35))\n",
    "dls = dblock.dataloaders(df)"
   ]
  },
  {
   "cell_type": "code",
   "execution_count": 7,
   "id": "28220e84",
   "metadata": {
    "execution": {
     "iopub.execute_input": "2022-08-08T14:12:04.995902Z",
     "iopub.status.busy": "2022-08-08T14:12:04.994863Z",
     "iopub.status.idle": "2022-08-08T14:12:08.349563Z",
     "shell.execute_reply": "2022-08-08T14:12:08.348261Z"
    },
    "papermill": {
     "duration": 3.366141,
     "end_time": "2022-08-08T14:12:08.354471",
     "exception": false,
     "start_time": "2022-08-08T14:12:04.988330",
     "status": "completed"
    },
    "tags": []
   },
   "outputs": [
    {
     "data": {
      "image/png": "[encoded data removed]",
      "text/plain": [
       "<Figure size 648x432 with 6 Axes>"
      ]
     },
     "metadata": {
      "needs_background": "light"
     },
     "output_type": "display_data"
    }
   ],
   "source": [
    "dls.show_batch(max_n=6)"
   ]
  },
  {
   "cell_type": "code",
   "execution_count": 8,
   "id": "7a78b77b",
   "metadata": {
    "execution": {
     "iopub.execute_input": "2022-08-08T14:12:08.370330Z",
     "iopub.status.busy": "2022-08-08T14:12:08.369875Z",
     "iopub.status.idle": "2022-08-08T14:18:17.019168Z",
     "shell.execute_reply": "2022-08-08T14:18:17.017660Z"
    },
    "papermill": {
     "duration": 368.660935,
     "end_time": "2022-08-08T14:18:17.022365",
     "exception": false,
     "start_time": "2022-08-08T14:12:08.361430",
     "status": "completed"
    },
    "tags": []
   },
   "outputs": [
    {
     "name": "stderr",
     "output_type": "stream",
     "text": [
      "Downloading: \"https://download.pytorch.org/models/resnet18-f37072fd.pth\" to /root/.cache/torch/hub/checkpoints/resnet18-f37072fd.pth\n"
     ]
    },
    {
     "data": {
      "application/vnd.jupyter.widget-view+json": {
       "model_id": "e74f579ffc3646d69bb44adf8318007d",
       "version_major": 2,
       "version_minor": 0
      },
      "text/plain": [
       "  0%|          | 0.00/44.7M [00:00<?, ?B/s]"
      ]
     },
     "metadata": {},
     "output_type": "display_data"
    },
    {
     "data": {
      "text/html": [
       "\n",
       "<style>\n",
       "    /* Turns off some styling */\n",
       "    progress {\n",
       "        /* gets rid of default border in Firefox and Opera. */\n",
       "        border: none;\n",
       "        /* Needs to be in here for Safari polyfill so background images work as expected. */\n",
       "        background-size: auto;\n",
       "    }\n",
       "    .progress-bar-interrupted, .progress-bar-interrupted::-webkit-progress-bar {\n",
       "        background: #F44336;\n",
       "    }\n",
       "</style>\n"
      ],
      "text/plain": [
       "<IPython.core.display.HTML object>"
      ]
     },
     "metadata": {},
     "output_type": "display_data"
    },
    {
     "data": {
      "text/html": [
       "<table border=\"1\" class=\"dataframe\">\n",
       "  <thead>\n",
       "    <tr style=\"text-align: left;\">\n",
       "      <th>epoch</th>\n",
       "      <th>train_loss</th>\n",
       "      <th>valid_loss</th>\n",
       "      <th>error_rate</th>\n",
       "      <th>time</th>\n",
       "    </tr>\n",
       "  </thead>\n",
       "  <tbody>\n",
       "    <tr>\n",
       "      <td>0</td>\n",
       "      <td>1.371156</td>\n",
       "      <td>1.110619</td>\n",
       "      <td>0.449132</td>\n",
       "      <td>00:58</td>\n",
       "    </tr>\n",
       "  </tbody>\n",
       "</table>"
      ],
      "text/plain": [
       "<IPython.core.display.HTML object>"
      ]
     },
     "metadata": {},
     "output_type": "display_data"
    },
    {
     "data": {
      "text/html": [
       "\n",
       "<style>\n",
       "    /* Turns off some styling */\n",
       "    progress {\n",
       "        /* gets rid of default border in Firefox and Opera. */\n",
       "        border: none;\n",
       "        /* Needs to be in here for Safari polyfill so background images work as expected. */\n",
       "        background-size: auto;\n",
       "    }\n",
       "    .progress-bar-interrupted, .progress-bar-interrupted::-webkit-progress-bar {\n",
       "        background: #F44336;\n",
       "    }\n",
       "</style>\n"
      ],
      "text/plain": [
       "<IPython.core.display.HTML object>"
      ]
     },
     "metadata": {},
     "output_type": "display_data"
    },
    {
     "data": {
      "text/html": [
       "<table border=\"1\" class=\"dataframe\">\n",
       "  <thead>\n",
       "    <tr style=\"text-align: left;\">\n",
       "      <th>epoch</th>\n",
       "      <th>train_loss</th>\n",
       "      <th>valid_loss</th>\n",
       "      <th>error_rate</th>\n",
       "      <th>time</th>\n",
       "    </tr>\n",
       "  </thead>\n",
       "  <tbody>\n",
       "    <tr>\n",
       "      <td>0</td>\n",
       "      <td>1.206880</td>\n",
       "      <td>0.874176</td>\n",
       "      <td>0.426799</td>\n",
       "      <td>00:09</td>\n",
       "    </tr>\n",
       "    <tr>\n",
       "      <td>1</td>\n",
       "      <td>1.170874</td>\n",
       "      <td>0.903664</td>\n",
       "      <td>0.446650</td>\n",
       "      <td>00:10</td>\n",
       "    </tr>\n",
       "    <tr>\n",
       "      <td>2</td>\n",
       "      <td>1.098885</td>\n",
       "      <td>0.864314</td>\n",
       "      <td>0.431762</td>\n",
       "      <td>00:09</td>\n",
       "    </tr>\n",
       "    <tr>\n",
       "      <td>3</td>\n",
       "      <td>1.038828</td>\n",
       "      <td>0.897510</td>\n",
       "      <td>0.441687</td>\n",
       "      <td>00:09</td>\n",
       "    </tr>\n",
       "    <tr>\n",
       "      <td>4</td>\n",
       "      <td>0.999575</td>\n",
       "      <td>0.891119</td>\n",
       "      <td>0.444169</td>\n",
       "      <td>00:09</td>\n",
       "    </tr>\n",
       "    <tr>\n",
       "      <td>5</td>\n",
       "      <td>0.960714</td>\n",
       "      <td>0.850064</td>\n",
       "      <td>0.411911</td>\n",
       "      <td>00:11</td>\n",
       "    </tr>\n",
       "    <tr>\n",
       "      <td>6</td>\n",
       "      <td>0.906152</td>\n",
       "      <td>0.859409</td>\n",
       "      <td>0.431762</td>\n",
       "      <td>00:09</td>\n",
       "    </tr>\n",
       "    <tr>\n",
       "      <td>7</td>\n",
       "      <td>0.853849</td>\n",
       "      <td>0.927054</td>\n",
       "      <td>0.459057</td>\n",
       "      <td>00:09</td>\n",
       "    </tr>\n",
       "    <tr>\n",
       "      <td>8</td>\n",
       "      <td>0.800852</td>\n",
       "      <td>0.858143</td>\n",
       "      <td>0.404467</td>\n",
       "      <td>00:10</td>\n",
       "    </tr>\n",
       "    <tr>\n",
       "      <td>9</td>\n",
       "      <td>0.755646</td>\n",
       "      <td>0.881015</td>\n",
       "      <td>0.414392</td>\n",
       "      <td>00:09</td>\n",
       "    </tr>\n",
       "    <tr>\n",
       "      <td>10</td>\n",
       "      <td>0.706411</td>\n",
       "      <td>0.965228</td>\n",
       "      <td>0.446650</td>\n",
       "      <td>00:09</td>\n",
       "    </tr>\n",
       "    <tr>\n",
       "      <td>11</td>\n",
       "      <td>0.656695</td>\n",
       "      <td>0.881566</td>\n",
       "      <td>0.416873</td>\n",
       "      <td>00:10</td>\n",
       "    </tr>\n",
       "    <tr>\n",
       "      <td>12</td>\n",
       "      <td>0.629180</td>\n",
       "      <td>0.908800</td>\n",
       "      <td>0.426799</td>\n",
       "      <td>00:09</td>\n",
       "    </tr>\n",
       "    <tr>\n",
       "      <td>13</td>\n",
       "      <td>0.577389</td>\n",
       "      <td>0.927232</td>\n",
       "      <td>0.404467</td>\n",
       "      <td>00:09</td>\n",
       "    </tr>\n",
       "    <tr>\n",
       "      <td>14</td>\n",
       "      <td>0.540909</td>\n",
       "      <td>0.943996</td>\n",
       "      <td>0.456576</td>\n",
       "      <td>00:10</td>\n",
       "    </tr>\n",
       "    <tr>\n",
       "      <td>15</td>\n",
       "      <td>0.509819</td>\n",
       "      <td>0.942067</td>\n",
       "      <td>0.434243</td>\n",
       "      <td>00:09</td>\n",
       "    </tr>\n",
       "    <tr>\n",
       "      <td>16</td>\n",
       "      <td>0.472653</td>\n",
       "      <td>1.043775</td>\n",
       "      <td>0.414392</td>\n",
       "      <td>00:09</td>\n",
       "    </tr>\n",
       "    <tr>\n",
       "      <td>17</td>\n",
       "      <td>0.441576</td>\n",
       "      <td>1.084399</td>\n",
       "      <td>0.426799</td>\n",
       "      <td>00:09</td>\n",
       "    </tr>\n",
       "    <tr>\n",
       "      <td>18</td>\n",
       "      <td>0.421672</td>\n",
       "      <td>1.025674</td>\n",
       "      <td>0.409429</td>\n",
       "      <td>00:10</td>\n",
       "    </tr>\n",
       "    <tr>\n",
       "      <td>19</td>\n",
       "      <td>0.392009</td>\n",
       "      <td>1.062222</td>\n",
       "      <td>0.414392</td>\n",
       "      <td>00:09</td>\n",
       "    </tr>\n",
       "    <tr>\n",
       "      <td>20</td>\n",
       "      <td>0.389100</td>\n",
       "      <td>1.047669</td>\n",
       "      <td>0.419355</td>\n",
       "      <td>00:09</td>\n",
       "    </tr>\n",
       "    <tr>\n",
       "      <td>21</td>\n",
       "      <td>0.361929</td>\n",
       "      <td>1.079833</td>\n",
       "      <td>0.404467</td>\n",
       "      <td>00:09</td>\n",
       "    </tr>\n",
       "    <tr>\n",
       "      <td>22</td>\n",
       "      <td>0.342576</td>\n",
       "      <td>1.056035</td>\n",
       "      <td>0.404467</td>\n",
       "      <td>00:10</td>\n",
       "    </tr>\n",
       "    <tr>\n",
       "      <td>23</td>\n",
       "      <td>0.332924</td>\n",
       "      <td>1.039633</td>\n",
       "      <td>0.404467</td>\n",
       "      <td>00:10</td>\n",
       "    </tr>\n",
       "    <tr>\n",
       "      <td>24</td>\n",
       "      <td>0.312615</td>\n",
       "      <td>1.069870</td>\n",
       "      <td>0.401985</td>\n",
       "      <td>00:10</td>\n",
       "    </tr>\n",
       "    <tr>\n",
       "      <td>25</td>\n",
       "      <td>0.294736</td>\n",
       "      <td>1.065834</td>\n",
       "      <td>0.399504</td>\n",
       "      <td>00:11</td>\n",
       "    </tr>\n",
       "    <tr>\n",
       "      <td>26</td>\n",
       "      <td>0.282564</td>\n",
       "      <td>1.089629</td>\n",
       "      <td>0.401985</td>\n",
       "      <td>00:09</td>\n",
       "    </tr>\n",
       "    <tr>\n",
       "      <td>27</td>\n",
       "      <td>0.274942</td>\n",
       "      <td>1.088615</td>\n",
       "      <td>0.401985</td>\n",
       "      <td>00:09</td>\n",
       "    </tr>\n",
       "    <tr>\n",
       "      <td>28</td>\n",
       "      <td>0.262523</td>\n",
       "      <td>1.106617</td>\n",
       "      <td>0.397022</td>\n",
       "      <td>00:10</td>\n",
       "    </tr>\n",
       "    <tr>\n",
       "      <td>29</td>\n",
       "      <td>0.261132</td>\n",
       "      <td>1.110257</td>\n",
       "      <td>0.409429</td>\n",
       "      <td>00:09</td>\n",
       "    </tr>\n",
       "  </tbody>\n",
       "</table>"
      ],
      "text/plain": [
       "<IPython.core.display.HTML object>"
      ]
     },
     "metadata": {},
     "output_type": "display_data"
    }
   ],
   "source": [
    "learn = vision_learner(dls, resnet18, metrics=error_rate)\n",
    "learn.fine_tune(30)"
   ]
  },
  {
   "cell_type": "markdown",
   "id": "581a8618",
   "metadata": {
    "execution": {
     "iopub.execute_input": "2022-08-08T14:01:16.825109Z",
     "iopub.status.busy": "2022-08-08T14:01:16.824442Z",
     "iopub.status.idle": "2022-08-08T14:01:16.832101Z",
     "shell.execute_reply": "2022-08-08T14:01:16.829194Z",
     "shell.execute_reply.started": "2022-08-08T14:01:16.825062Z"
    },
    "papermill": {
     "duration": 0.007072,
     "end_time": "2022-08-08T14:18:17.036936",
     "exception": false,
     "start_time": "2022-08-08T14:18:17.029864",
     "status": "completed"
    },
    "tags": []
   },
   "source": [
    "## Conclusions"
   ]
  },
  {
   "cell_type": "markdown",
   "id": "96497e1b",
   "metadata": {
    "papermill": {
     "duration": 0.007149,
     "end_time": "2022-08-08T14:18:17.051040",
     "exception": false,
     "start_time": "2022-08-08T14:18:17.043891",
     "status": "completed"
    },
    "tags": []
   },
   "source": [
    "As we can see, the error rate is quite bad with 0.38. What can we do to improve?\n",
    "- Not randomly take the first image from every patient to compare but get a clue of which image is valuable for finding the target\n",
    "- preprocess images so they are better comparable \n",
    "- Do a general EDA to get a sense of the topic"
   ]
  },
  {
   "cell_type": "code",
   "execution_count": null,
   "id": "989e4bd5",
   "metadata": {
    "papermill": {
     "duration": 0.00744,
     "end_time": "2022-08-08T14:18:17.065960",
     "exception": false,
     "start_time": "2022-08-08T14:18:17.058520",
     "status": "completed"
    },
    "tags": []
   },
   "outputs": [],
   "source": []
  }
 ],
 "metadata": {
  "kernelspec": {
   "display_name": "Python 3",
   "language": "python",
   "name": "python3"
  },
  "language_info": {
   "codemirror_mode": {
    "name": "ipython",
    "version": 3
   },
   "file_extension": ".py",
   "mimetype": "text/x-python",
   "name": "python",
   "nbconvert_exporter": "python",
   "pygments_lexer": "ipython3",
   "version": "3.7.12"
  },
  "papermill": {
   "default_parameters": {},
   "duration": 411.232745,
   "end_time": "2022-08-08T14:18:19.669406",
   "environment_variables": {},
   "exception": null,
   "input_path": "__notebook__.ipynb",
   "output_path": "__notebook__.ipynb",
   "parameters": {},
   "start_time": "2022-08-08T14:11:28.436661",
   "version": "2.3.4"
  },
  "widgets": {
   "application/vnd.jupyter.widget-state+json": {
    "state": {
     "1d6db21b638b457db340e1270d1ddb89": {
      "model_module": "@jupyter-widgets/controls",
      "model_module_version": "1.5.0",
      "model_name": "FloatProgressModel",
      "state": {
       "_dom_classes": [],
       "_model_module": "@jupyter-widgets/controls",
       "_model_module_version": "1.5.0",
       "_model_name": "FloatProgressModel",
       "_view_count": null,
       "_view_module": "@jupyter-widgets/controls",
       "_view_module_version": "1.5.0",
       "_view_name": "ProgressView",
       "bar_style": "success",
       "description": "",
       "description_tooltip": null,
       "layout": "IPY_MODEL_bf6ebe1d7d61401a897a06295c7a28cb",
       "max": 46830571.0,
       "min": 0.0,
       "orientation": "horizontal",
       "style": "IPY_MODEL_82ca24ab0dfd430cb6eaef114025193f",
       "value": 46830571.0
      }
     },
     "2a0078016ade4abbb875ac4671a33883": {
      "model_module": "@jupyter-widgets/base",
      "model_module_version": "1.2.0",
      "model_name": "LayoutModel",
      "state": {
       "_model_module": "@jupyter-widgets/base",
       "_model_module_version": "1.2.0",
       "_model_name": "LayoutModel",
       "_view_count": null,
       "_view_module": "@jupyter-widgets/base",
       "_view_module_version": "1.2.0",
       "_view_name": "LayoutView",
       "align_content": null,
       "align_items": null,
       "align_self": null,
       "border": null,
       "bottom": null,
       "display": null,
       "flex": null,
       "flex_flow": null,
       "grid_area": null,
       "grid_auto_columns": null,
       "grid_auto_flow": null,
       "grid_auto_rows": null,
       "grid_column": null,
       "grid_gap": null,
       "grid_row": null,
       "grid_template_areas": null,
       "grid_template_columns": null,
       "grid_template_rows": null,
       "height": null,
       "justify_content": null,
       "justify_items": null,
       "left": null,
       "margin": null,
       "max_height": null,
       "max_width": null,
       "min_height": null,
       "min_width": null,
       "object_fit": null,
       "object_position": null,
       "order": null,
       "overflow": null,
       "overflow_x": null,
       "overflow_y": null,
       "padding": null,
       "right": null,
       "top": null,
       "visibility": null,
       "width": null
      }
     },
     "33f123334fab4f1494d9bfd72fd839f5": {
      "model_module": "@jupyter-widgets/base",
      "model_module_version": "1.2.0",
      "model_name": "LayoutModel",
      "state": {
       "_model_module": "@jupyter-widgets/base",
       "_model_module_version": "1.2.0",
       "_model_name": "LayoutModel",
       "_view_count": null,
       "_view_module": "@jupyter-widgets/base",
       "_view_module_version": "1.2.0",
       "_view_name": "LayoutView",
       "align_content": null,
       "align_items": null,
       "align_self": null,
       "border": null,
       "bottom": null,
       "display": null,
       "flex": null,
       "flex_flow": null,
       "grid_area": null,
       "grid_auto_columns": null,
       "grid_auto_flow": null,
       "grid_auto_rows": null,
       "grid_column": null,
       "grid_gap": null,
       "grid_row": null,
       "grid_template_areas": null,
       "grid_template_columns": null,
       "grid_template_rows": null,
       "height": null,
       "justify_content": null,
       "justify_items": null,
       "left": null,
       "margin": null,
       "max_height": null,
       "max_width": null,
       "min_height": null,
       "min_width": null,
       "object_fit": null,
       "object_position": null,
       "order": null,
       "overflow": null,
       "overflow_x": null,
       "overflow_y": null,
       "padding": null,
       "right": null,
       "top": null,
       "visibility": null,
       "width": null
      }
     },
     "4ff680f8852d45e5b1db58b9f6911395": {
      "model_module": "@jupyter-widgets/base",
      "model_module_version": "1.2.0",
      "model_name": "LayoutModel",
      "state": {
       "_model_module": "@jupyter-widgets/base",
       "_model_module_version": "1.2.0",
       "_model_name": "LayoutModel",
       "_view_count": null,
       "_view_module": "@jupyter-widgets/base",
       "_view_module_version": "1.2.0",
       "_view_name": "LayoutView",
       "align_content": null,
       "align_items": null,
       "align_self": null,
       "border": null,
       "bottom": null,
       "display": null,
       "flex": null,
       "flex_flow": null,
       "grid_area": null,
       "grid_auto_columns": null,
       "grid_auto_flow": null,
       "grid_auto_rows": null,
       "grid_column": null,
       "grid_gap": null,
       "grid_row": null,
       "grid_template_areas": null,
       "grid_template_columns": null,
       "grid_template_rows": null,
       "height": null,
       "justify_content": null,
       "justify_items": null,
       "left": null,
       "margin": null,
       "max_height": null,
       "max_width": null,
       "min_height": null,
       "min_width": null,
       "object_fit": null,
       "object_position": null,
       "order": null,
       "overflow": null,
       "overflow_x": null,
       "overflow_y": null,
       "padding": null,
       "right": null,
       "top": null,
       "visibility": null,
       "width": null
      }
     },
     "5982f1411fe84528a3cb90e2b72cd1ad": {
      "model_module": "@jupyter-widgets/controls",
      "model_module_version": "1.5.0",
      "model_name": "DescriptionStyleModel",
      "state": {
       "_model_module": "@jupyter-widgets/controls",
       "_model_module_version": "1.5.0",
       "_model_name": "DescriptionStyleModel",
       "_view_count": null,
       "_view_module": "@jupyter-widgets/base",
       "_view_module_version": "1.2.0",
       "_view_name": "StyleView",
       "description_width": ""
      }
     },
     "82ca24ab0dfd430cb6eaef114025193f": {
      "model_module": "@jupyter-widgets/controls",
      "model_module_version": "1.5.0",
      "model_name": "ProgressStyleModel",
      "state": {
       "_model_module": "@jupyter-widgets/controls",
       "_model_module_version": "1.5.0",
       "_model_name": "ProgressStyleModel",
       "_view_count": null,
       "_view_module": "@jupyter-widgets/base",
       "_view_module_version": "1.2.0",
       "_view_name": "StyleView",
       "bar_color": null,
       "description_width": ""
      }
     },
     "a7bdbdeb8cc2490c9bd9239918d4ad77": {
      "model_module": "@jupyter-widgets/controls",
      "model_module_version": "1.5.0",
      "model_name": "DescriptionStyleModel",
      "state": {
       "_model_module": "@jupyter-widgets/controls",
       "_model_module_version": "1.5.0",
       "_model_name": "DescriptionStyleModel",
       "_view_count": null,
       "_view_module": "@jupyter-widgets/base",
       "_view_module_version": "1.2.0",
       "_view_name": "StyleView",
       "description_width": ""
      }
     },
     "aa9ae478ff034b55ba67d6694db6645b": {
      "model_module": "@jupyter-widgets/controls",
      "model_module_version": "1.5.0",
      "model_name": "HTMLModel",
      "state": {
       "_dom_classes": [],
       "_model_module": "@jupyter-widgets/controls",
       "_model_module_version": "1.5.0",
       "_model_name": "HTMLModel",
       "_view_count": null,
       "_view_module": "@jupyter-widgets/controls",
       "_view_module_version": "1.5.0",
       "_view_name": "HTMLView",
       "description": "",
       "description_tooltip": null,
       "layout": "IPY_MODEL_4ff680f8852d45e5b1db58b9f6911395",
       "placeholder": "​",
       "style": "IPY_MODEL_5982f1411fe84528a3cb90e2b72cd1ad",
       "value": " 44.7M/44.7M [00:05&lt;00:00, 12.5MB/s]"
      }
     },
     "bf6ebe1d7d61401a897a06295c7a28cb": {
      "model_module": "@jupyter-widgets/base",
      "model_module_version": "1.2.0",
      "model_name": "LayoutModel",
      "state": {
       "_model_module": "@jupyter-widgets/base",
       "_model_module_version": "1.2.0",
       "_model_name": "LayoutModel",
       "_view_count": null,
       "_view_module": "@jupyter-widgets/base",
       "_view_module_version": "1.2.0",
       "_view_name": "LayoutView",
       "align_content": null,
       "align_items": null,
       "align_self": null,
       "border": null,
       "bottom": null,
       "display": null,
       "flex": null,
       "flex_flow": null,
       "grid_area": null,
       "grid_auto_columns": null,
       "grid_auto_flow": null,
       "grid_auto_rows": null,
       "grid_column": null,
       "grid_gap": null,
       "grid_row": null,
       "grid_template_areas": null,
       "grid_template_columns": null,
       "grid_template_rows": null,
       "height": null,
       "justify_content": null,
       "justify_items": null,
       "left": null,
       "margin": null,
       "max_height": null,
       "max_width": null,
       "min_height": null,
       "min_width": null,
       "object_fit": null,
       "object_position": null,
       "order": null,
       "overflow": null,
       "overflow_x": null,
       "overflow_y": null,
       "padding": null,
       "right": null,
       "top": null,
       "visibility": null,
       "width": null
      }
     },
     "e74f579ffc3646d69bb44adf8318007d": {
      "model_module": "@jupyter-widgets/controls",
      "model_module_version": "1.5.0",
      "model_name": "HBoxModel",
      "state": {
       "_dom_classes": [],
       "_model_module": "@jupyter-widgets/controls",
       "_model_module_version": "1.5.0",
       "_model_name": "HBoxModel",
       "_view_count": null,
       "_view_module": "@jupyter-widgets/controls",
       "_view_module_version": "1.5.0",
       "_view_name": "HBoxView",
       "box_style": "",
       "children": [
        "IPY_MODEL_f26be2e4236a4ccc905a2f2d4946ac97",
        "IPY_MODEL_1d6db21b638b457db340e1270d1ddb89",
        "IPY_MODEL_aa9ae478ff034b55ba67d6694db6645b"
       ],
       "layout": "IPY_MODEL_33f123334fab4f1494d9bfd72fd839f5"
      }
     },
     "f26be2e4236a4ccc905a2f2d4946ac97": {
      "model_module": "@jupyter-widgets/controls",
      "model_module_version": "1.5.0",
      "model_name": "HTMLModel",
      "state": {
       "_dom_classes": [],
       "_model_module": "@jupyter-widgets/controls",
       "_model_module_version": "1.5.0",
       "_model_name": "HTMLModel",
       "_view_count": null,
       "_view_module": "@jupyter-widgets/controls",
       "_view_module_version": "1.5.0",
       "_view_name": "HTMLView",
       "description": "",
       "description_tooltip": null,
       "layout": "IPY_MODEL_2a0078016ade4abbb875ac4671a33883",
       "placeholder": "​",
       "style": "IPY_MODEL_a7bdbdeb8cc2490c9bd9239918d4ad77",
       "value": "100%"
      }
     }
    },
    "version_major": 2,
    "version_minor": 0
   }
  }
 },
 "nbformat": 4,
 "nbformat_minor": 5
}
